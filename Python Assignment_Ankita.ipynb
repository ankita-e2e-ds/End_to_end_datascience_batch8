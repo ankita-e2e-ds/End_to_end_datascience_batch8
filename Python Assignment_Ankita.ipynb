{
 "cells": [
  {
   "cell_type": "markdown",
   "metadata": {},
   "source": [
    "# Python Assignment Questions\n",
    "\n",
    "\n"
   ]
  },
  {
   "cell_type": "markdown",
   "metadata": {},
   "source": [
    "# QUESTIONS ON STRINGS"
   ]
  },
  {
   "cell_type": "markdown",
   "metadata": {},
   "source": [
    "The given string is:\n",
    "\" I am very keen in building up my career in Data Science, but not sure from where to start. If I search the web it throws me thousands of articles, few are relevant others make me confused, again I come around to the same page. Supervised has provided me a good platform to remove all such qualms which were wrangling in my mind\""
   ]
  },
  {
   "cell_type": "code",
   "execution_count": 3,
   "metadata": {},
   "outputs": [],
   "source": [
    "# 1)Consider the above text as a string, figure out the average length of the string."
   ]
  },
  {
   "cell_type": "code",
   "execution_count": 1,
   "metadata": {},
   "outputs": [
    {
     "name": "stdout",
     "output_type": "stream",
     "text": [
      " I am very keen in building up my career in Data Science, but not sure from where to start. If I search the web it throws me thousands of articles, few are relevant others make me confused, again I come around to the same page. Supervised has provided me a good platform to remove all such qualms which were wrangling in my mind\n"
     ]
    }
   ],
   "source": [
    "s=\" I am very keen in building up my career in Data Science, but not sure from where to start. If I search the web it throws me thousands of articles, few are relevant others make me confused, again I come around to the same page. Supervised has provided me a good platform to remove all such qualms which were wrangling in my mind\"\n",
    "print(s)"
   ]
  },
  {
   "cell_type": "code",
   "execution_count": 5,
   "metadata": {},
   "outputs": [
    {
     "name": "stdout",
     "output_type": "stream",
     "text": [
      "Average length of the string is =  328\n"
     ]
    }
   ],
   "source": [
    "print(\"Average length of the string is = \",len(s))"
   ]
  },
  {
   "cell_type": "code",
   "execution_count": 6,
   "metadata": {},
   "outputs": [],
   "source": [
    "# 2) Lower the text in the string."
   ]
  },
  {
   "cell_type": "code",
   "execution_count": 7,
   "metadata": {},
   "outputs": [
    {
     "data": {
      "text/plain": [
       "' i am very keen in building up my career in data science, but not sure from where to start. if i search the web it throws me thousands of articles, few are relevant others make me confused, again i come around to the same page. supervised has provided me a good platform to remove all such qualms which were wrangling in my mind'"
      ]
     },
     "execution_count": 7,
     "metadata": {},
     "output_type": "execute_result"
    }
   ],
   "source": [
    "s.lower()"
   ]
  },
  {
   "cell_type": "code",
   "execution_count": 8,
   "metadata": {},
   "outputs": [],
   "source": [
    "# 3) Try to get the clean text removing the punctuation from the string."
   ]
  },
  {
   "cell_type": "code",
   "execution_count": 9,
   "metadata": {
    "scrolled": true
   },
   "outputs": [
    {
     "name": "stdout",
     "output_type": "stream",
     "text": [
      "Text clear of punctuation is :  I am very keen in building up my career in Data Science but not sure from where to start If I search the web it throws me thousands of articles few are relevant others make me confused again I come around to the same page Supervised has provided me a good platform to remove all such qualms which were wrangling in my mind\n"
     ]
    }
   ],
   "source": [
    "import string\n",
    "s=\" I am very keen in building up my career in Data Science, but not sure from where to start. If I search the web it throws me thousands of articles, few are relevant others make me confused, again I come around to the same page. Supervised has provided me a good platform to remove all such qualms which were wrangling in my mind\"\n",
    "for i in s:\n",
    "    if i in string.punctuation:\n",
    "        s=s.replace(i,\"\")\n",
    "print(\"Text clear of punctuation is :\",s)"
   ]
  },
  {
   "cell_type": "code",
   "execution_count": 11,
   "metadata": {},
   "outputs": [
    {
     "name": "stdout",
     "output_type": "stream",
     "text": [
      "['Data', 'Science,']\n"
     ]
    }
   ],
   "source": [
    "# 4) Extract word \"Data Science\" from the string.\n",
    "s='\" I am very keen in building up my career in Data Science, but not sure from where to start. If I search the web it throws me thousands of articles, few are relevant others make me confused, again I come around to the same page. Supervised has provided me a good platform to remove all such qualms which were wrangling in my mind\"'\n",
    "st=s.split()\n",
    "print(st[11:13])"
   ]
  },
  {
   "cell_type": "code",
   "execution_count": 12,
   "metadata": {
    "scrolled": true
   },
   "outputs": [
    {
     "name": "stdout",
     "output_type": "stream",
     "text": [
      " Frequency of words \n",
      "[('\"', 1), ('I', 3), ('am', 1), ('very', 1), ('keen', 1), ('in', 3), ('building', 1), ('up', 1), ('my', 2), ('career', 1), ('in', 3), ('Data', 1), ('Science,', 1), ('but', 1), ('not', 1), ('sure', 1), ('from', 1), ('where', 1), ('to', 3), ('start.', 1), ('If', 1), ('I', 3), ('search', 1), ('the', 2), ('web', 1), ('it', 1), ('throws', 1), ('me', 3), ('thousands', 1), ('of', 1), ('articles,', 1), ('few', 1), ('are', 1), ('relevant', 1), ('others', 1), ('make', 1), ('me', 3), ('confused,', 1), ('again', 1), ('I', 3), ('come', 1), ('around', 1), ('to', 3), ('the', 2), ('same', 1), ('page.', 1), ('Supervised', 1), ('has', 1), ('provided', 1), ('me', 3), ('a', 1), ('good', 1), ('platform', 1), ('to', 3), ('remove', 1), ('all', 1), ('such', 1), ('qualms', 1), ('which', 1), ('were', 1), ('wrangling', 1), ('in', 3), ('my', 2), ('mind\"', 1)]\n"
     ]
    }
   ],
   "source": [
    "# 5) Find the frequency of words used in the string.\n",
    "s='\" I am very keen in building up my career in Data Science, but not sure from where to start. If I search the web it throws me thousands of articles, few are relevant others make me confused, again I come around to the same page. Supervised has provided me a good platform to remove all such qualms which were wrangling in my mind\"'\n",
    "wordlist=s.split()\n",
    "wordfreq=[wordlist.count(w) for w in wordlist]\n",
    "print(\" Frequency of words \\n\" + str(list(zip(wordlist,wordfreq))))"
   ]
  },
  {
   "cell_type": "markdown",
   "metadata": {},
   "source": [
    "TO ASK PRUDHVI Q6"
   ]
  },
  {
   "cell_type": "code",
   "execution_count": 6,
   "metadata": {},
   "outputs": [],
   "source": [
    "# 6)Find all the words which occurred more than once in the string.\n",
    "from collections import Counter\n",
    "words=str.split(' ')\n",
    "dict=Counter(words) # convert list of words dictionary\n",
    "for key in words:\n",
    "    if dict[key]>1:\n",
    "        print(key,\" \",dict[key])"
   ]
  },
  {
   "cell_type": "code",
   "execution_count": null,
   "metadata": {},
   "outputs": [],
   "source": [
    "\n",
    "        "
   ]
  },
  {
   "cell_type": "code",
   "execution_count": 36,
   "metadata": {},
   "outputs": [
    {
     "name": "stdout",
     "output_type": "stream",
     "text": [
      " I am very keen in building up my career in Data Science, but not sure from where to start. If I search the web it throws me thousands of articles, few are relevant others make me confused, again I come around to the same page. Unsupervised has provided me a good platform to remove all such qualms which were wrangling in my mind\n"
     ]
    }
   ],
   "source": [
    "#7) Can you change the word \"Supervised\" to \"Unsupervised\" in the string\n",
    "s=\" I am very keen in building up my career in Data Science, but not sure from where to start. If I search the web it throws me thousands of articles, few are relevant others make me confused, again I come around to the same page. Supervised has provided me a good platform to remove all such qualms which were wrangling in my mind\"\n",
    "s=s.replace('Supervised','Unsupervised')\n",
    "print(s)"
   ]
  },
  {
   "cell_type": "code",
   "execution_count": 13,
   "metadata": {},
   "outputs": [
    {
     "name": "stdout",
     "output_type": "stream",
     "text": [
      "[' I am very keen in building up my career in Data Science, but not sure from where to start', ' If I search the web it throws me thousands of articles, few are relevant others make me confused, again I come around to the same page', ' Supervised has provided me a good platform to remove all such qualms which were wrangling in my mind']\n"
     ]
    }
   ],
   "source": [
    "# 8) Splitting of the string with a dot operator(.)\n",
    "s=\" I am very keen in building up my career in Data Science, but not sure from where to start. If I search the web it throws me thousands of articles, few are relevant others make me confused, again I come around to the same page. Supervised has provided me a good platform to remove all such qualms which were wrangling in my mind\"\n",
    "s=s.split(\".\")\n",
    "print(s)"
   ]
  },
  {
   "cell_type": "code",
   "execution_count": 15,
   "metadata": {},
   "outputs": [
    {
     "name": "stdout",
     "output_type": "stream",
     "text": [
      "['e', 'e', 'e', 'e', 'e', 'e', 'e', 'e', 'e', 'e', 'e', 'e', 'e', 'e', 'e', 'e', 'e', 'e', 'e', 'e', 'e', 'e', 'e', 'e', 'e', 'e', 'e', 'e', 'e', 'e', 'e', 'e', 'e', 'e', 'e']\n"
     ]
    }
   ],
   "source": [
    "# 9) Find the words from the string which ends with \"e\"\n",
    "s=\" I am very keen in building up my career in Data Science, but not sure from where to start. If I search the web it throws me thousands of articles, few are relevant others make me confused, again I come around to the same page. Supervised has provided me a good platform to remove all such qualms which were wrangling in my mind\"\n",
    "suffix_list=[]\n",
    "\n",
    "for e in s:\n",
    "    for element in e.split():\n",
    "        if element.endswith(\"e\"):\n",
    "            suffix_list.append(e)\n",
    "            \n",
    "print(suffix_list)             \n"
   ]
  },
  {
   "cell_type": "code",
   "execution_count": 67,
   "metadata": {},
   "outputs": [
    {
     "name": "stdout",
     "output_type": "stream",
     "text": [
      "Number of 'a' in the string is :  22\n"
     ]
    }
   ],
   "source": [
    "# 10) Figure out number of a's used in the string.\n",
    "s=\" I am very keen in building up my career in Data Science, but not sure from where to start. If I search the web it throws me thousands of articles, few are relevant others make me confused, again I come around to the same page. Supervised has provided me a good platform to remove all such qualms which were wrangling in my mind\"\n",
    "count=s.count('a')\n",
    "print (\"Number of 'a' in the string is : \",count)"
   ]
  },
  {
   "cell_type": "markdown",
   "metadata": {},
   "source": [
    "# Questions on Dictionary"
   ]
  },
  {
   "cell_type": "code",
   "execution_count": 7,
   "metadata": {},
   "outputs": [
    {
     "name": "stdout",
     "output_type": "stream",
     "text": [
      "{'apple': '250gm', 'sugar': '500gm', 'rice': '2.5kg', 'milk': '2.5 litres', 'egg': '1 dozen'}\n"
     ]
    }
   ],
   "source": [
    "\n",
    "# In the weekend , I purchased 250g of apple, 500g of sugar, 2.5 kg of rice, 2.5 litres of milk and finally 1 dozen of egg.\n",
    "\n",
    "# 1) Can you help me frame the above purchase in the form of dictionary with commodities as keys to it\n",
    "grocery_dict={'apple':'250gm','sugar':'500gm','rice':'2.5kg','milk':'2.5 litres','egg':'1 dozen'}\n",
    "print(grocery_dict)"
   ]
  },
  {
   "cell_type": "code",
   "execution_count": 8,
   "metadata": {},
   "outputs": [
    {
     "name": "stdout",
     "output_type": "stream",
     "text": [
      "{'apple': '250gm', 'sugar': '500gm', 'rice': '2.5kg', 'milk': '2.5 litres', 'egg': '1 dozen', 'atta': '1kg'} "
     ]
    }
   ],
   "source": [
    "# 2) I forgot to mention another item, 1kg of atta packet. Can you also add it ?\n",
    "grocery_dict['atta']='1kg'\n",
    "print(grocery_dict,end=' ')"
   ]
  },
  {
   "cell_type": "code",
   "execution_count": 9,
   "metadata": {},
   "outputs": [
    {
     "name": "stdout",
     "output_type": "stream",
     "text": [
      "original dictionary:  {'apple': '250gm', 'sugar': '500gm', 'rice': '2.5kg', 'milk': '2.5 litres', 'egg': '1 dozen', 'atta': '1kg'}\n",
      "updated dictionary :  {'apple': '250gm', 'sugar': '500gm', 'rice': '1 kg', 'milk': '2.5 litres', 'egg': '1 dozen', 'atta': '1kg'}\n"
     ]
    }
   ],
   "source": [
    "# 3)Instead of 2kg of rice, I bought only 1kg of rice. Can you change the corresponding value ?\n",
    "print(\"original dictionary: \",grocery_dict)\n",
    "dict2={'rice':'1 kg'}\n",
    "grocery_dict.update(dict2)\n",
    "print(\"updated dictionary : \",grocery_dict)"
   ]
  },
  {
   "cell_type": "code",
   "execution_count": 10,
   "metadata": {},
   "outputs": [
    {
     "name": "stdout",
     "output_type": "stream",
     "text": [
      "('apple', '250gm')\n",
      "('sugar', '500gm')\n",
      "('rice', '1 kg')\n",
      "('milk', '2.5 litres')\n",
      "('egg', '1 dozen')\n",
      "('atta', '1kg')\n"
     ]
    }
   ],
   "source": [
    "# 4) Can you list out all these items using a loop.\n",
    "for item in grocery_dict.items():\n",
    "    print(item)"
   ]
  },
  {
   "cell_type": "code",
   "execution_count": 11,
   "metadata": {},
   "outputs": [
    {
     "name": "stdout",
     "output_type": "stream",
     "text": [
      "['Amazon', 'Facebook', 'HiSilicon', 'Google', 'Apple', 'Microsoft', 'SenseTime'] "
     ]
    }
   ],
   "source": [
    "# Questions on Lists\n",
    "AI_companies=['Amazon','Facebook','HiSilicon','Google','Apple','Microsoft','SenseTime']\n",
    "print(AI_companies,end=\" \")"
   ]
  },
  {
   "cell_type": "code",
   "execution_count": 12,
   "metadata": {},
   "outputs": [
    {
     "name": "stdout",
     "output_type": "stream",
     "text": [
      "['Amazon', 'Apple', 'Facebook', 'Google', 'HiSilicon', 'Microsoft', 'SenseTime'] "
     ]
    }
   ],
   "source": [
    "# 1) Sort the list in ascending order\n",
    "AI_companies.sort()\n",
    "print(AI_companies,end=\" \")"
   ]
  },
  {
   "cell_type": "code",
   "execution_count": 13,
   "metadata": {},
   "outputs": [
    {
     "name": "stdout",
     "output_type": "stream",
     "text": [
      "['Amazon', 'Apple', 'Facebook', 'Google', 'HiSilicon', 'Microsoft', 'SenseTime', 'Nvidia', 'OpenAI', 'Qualcom', 'Reliance'] "
     ]
    }
   ],
   "source": [
    "#2) Add multiple companies at once 'Nvidia', 'OpenAI' , 'Qualcomm' and 'Reliance' to the list\n",
    "\n",
    "AI_companies.extend(['Nvidia','OpenAI','Qualcom','Reliance'])\n",
    "print(AI_companies,end=\" \")"
   ]
  },
  {
   "cell_type": "code",
   "execution_count": 14,
   "metadata": {},
   "outputs": [
    {
     "name": "stdout",
     "output_type": "stream",
     "text": [
      "['amazon', 'apple', 'facebook', 'google', 'hisilicon', 'microsoft', 'sensetime', 'nvidia', 'openai', 'qualcom', 'reliance'] "
     ]
    }
   ],
   "source": [
    "# 3) Lower the list using List comprehension\n",
    "lst=[x.lower() for x in AI_companies]\n",
    "print(lst,end=\" \")"
   ]
  },
  {
   "cell_type": "code",
   "execution_count": 15,
   "metadata": {},
   "outputs": [
    {
     "name": "stdout",
     "output_type": "stream",
     "text": [
      "['Amazon', 'Apple', 'Facebook', 'Google', 'HiSilicon', 'Microsoft', 'SenseTime', 'Nvidia', 'OpenAI', 'Qualcom'] "
     ]
    }
   ],
   "source": [
    "# 4)Elimiate 'Reliance' from the list\n",
    "AI_companies=['Amazon', 'Apple', 'Facebook', 'Google', 'HiSilicon', 'Microsoft', 'SenseTime', 'Nvidia', 'OpenAI', 'Qualcom', 'Reliance'] \n",
    "AI_companies.remove('Reliance')\n",
    "print(AI_companies,end=\" \")"
   ]
  },
  {
   "cell_type": "code",
   "execution_count": 16,
   "metadata": {},
   "outputs": [
    {
     "data": {
      "text/plain": [
       "['Facebook', 'Google', 'Microsoft']"
      ]
     },
     "execution_count": 16,
     "metadata": {},
     "output_type": "execute_result"
    }
   ],
   "source": [
    "# 5)Extract 'Facebook', 'Google' and 'Microsoft' using a single command\n",
    "AI_companies=['Amazon','Facebook','HiSilicon','Google','Apple','Microsoft','SenseTime']\n",
    "AI_companies[1:7:2]"
   ]
  },
  {
   "cell_type": "markdown",
   "metadata": {},
   "source": [
    "# Questions on Tuple"
   ]
  },
  {
   "cell_type": "code",
   "execution_count": 18,
   "metadata": {},
   "outputs": [
    {
     "data": {
      "text/plain": [
       "(220, 43, 45, 30, 60)"
      ]
     },
     "execution_count": 18,
     "metadata": {},
     "output_type": "execute_result"
    }
   ],
   "source": [
    "\n",
    "# a)Consider the above standard price problem statement and place the prices in the form of the tuple.\n",
    "price_tuple=(220,43,45,30,60)\n",
    "price_tuple"
   ]
  },
  {
   "cell_type": "code",
   "execution_count": 19,
   "metadata": {},
   "outputs": [
    {
     "name": "stdout",
     "output_type": "stream",
     "text": [
      "Maximum value = 220\n",
      "Minimum value = 30\n"
     ]
    }
   ],
   "source": [
    "# (b)Find out the min and max price among them.\n",
    "print(\"Maximum value =\",max(price_tuple))\n",
    "print(\"Minimum value =\",min(price_tuple))"
   ]
  },
  {
   "cell_type": "code",
   "execution_count": 20,
   "metadata": {},
   "outputs": [
    {
     "name": "stdout",
     "output_type": "stream",
     "text": [
      "('Amazon', 'Facebook', 'HiSilicon', 'Google', 'Apple', 'Microsoft', 'SenseTime') "
     ]
    }
   ],
   "source": [
    "# (c)Also, convert the above \"AI_companies\" list to a tuple.\n",
    "AI_tuple=('Amazon','Facebook','HiSilicon','Google','Apple','Microsoft','SenseTime')\n",
    "print(AI_tuple,end=\" \")"
   ]
  },
  {
   "cell_type": "code",
   "execution_count": 21,
   "metadata": {},
   "outputs": [
    {
     "name": "stdout",
     "output_type": "stream",
     "text": [
      "(220, 43, 45, 30, 60, 'Amazon', 'Facebook', 'HiSilicon', 'Google', 'Apple', 'Microsoft', 'SenseTime')\n"
     ]
    }
   ],
   "source": [
    "# (d)Combine two above tuples to a single tuple.\n",
    "AI_tuple=('Amazon','Facebook','HiSilicon','Google','Apple','Microsoft','SenseTime')\n",
    "price_tuple=(220,43,45,30,60)\n",
    "new_tuple=price_tuple + AI_tuple\n",
    "print(new_tuple)"
   ]
  },
  {
   "cell_type": "code",
   "execution_count": 22,
   "metadata": {},
   "outputs": [
    {
     "name": "stdout",
     "output_type": "stream",
     "text": [
      "False\n"
     ]
    }
   ],
   "source": [
    "# (e)Compare the length of two tuples.\n",
    "AI_tuple=('Amazon','Facebook','HiSilicon','Google','Apple','Microsoft','SenseTime')\n",
    "price_tuple=(220,43,45,30,60)\n",
    "print(len(AI_tuple)==len(price_tuple))"
   ]
  }
 ],
 "metadata": {
  "kernelspec": {
   "display_name": "Python 3",
   "language": "python",
   "name": "python3"
  },
  "language_info": {
   "codemirror_mode": {
    "name": "ipython",
    "version": 3
   },
   "file_extension": ".py",
   "mimetype": "text/x-python",
   "name": "python",
   "nbconvert_exporter": "python",
   "pygments_lexer": "ipython3",
   "version": "3.7.4"
  }
 },
 "nbformat": 4,
 "nbformat_minor": 2
}
