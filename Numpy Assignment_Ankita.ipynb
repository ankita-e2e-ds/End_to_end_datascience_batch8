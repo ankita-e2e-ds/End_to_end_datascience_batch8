{
 "cells": [
  {
   "cell_type": "markdown",
   "metadata": {},
   "source": [
    "# NUMPY ASSIGNMENT\n",
    "1. Create a 1D array of numbers from 0 to 9.\n",
    "\n",
    "2. Create a 3×3 numpy array of all True’s\n",
    "\n",
    "3. Given an array as input, print only odd numbers as output\n",
    "\n",
    "4. Replace all odd numbers in arr with -2\n",
    "\n",
    "5. How to reshape an array?\n",
    "\n",
    "6. Convert a 1D array to a 2D array with 2 rows\n",
    "\n",
    "7. Given an array  a  = [1,2,3,4,5,6,7,8,9] , create  new array b from a such that b includes all odd numbers and 4 multiples. \n",
    "\n",
    "8. Given array, check if there are any null values and print them out. \n",
    "\n",
    "9. How to replace all missing values with 0 in a numpy array?\n",
    "\n",
    "10. How to find the count of each unique number in a NumPy array?\n",
    "\n",
    "11. How to convert a numeric to a categorical (text) array?\n",
    "\n",
    "12. Write a program to print all numbers between 99 and 299 which are either divisible by 5 or 7. Exclude the elements which are divisible by both. \n",
    "\n",
    "13. Write a program to reverse an array and print (Don’t use inbuilt reverse functions)"
   ]
  },
  {
   "cell_type": "code",
   "execution_count": 1,
   "metadata": {},
   "outputs": [],
   "source": [
    "import numpy as np\n",
    "import matplotlib.pyplot as plt"
   ]
  },
  {
   "cell_type": "code",
   "execution_count": 2,
   "metadata": {},
   "outputs": [
    {
     "data": {
      "text/plain": [
       "array([0, 1, 2, 3, 4, 5, 6, 7, 8, 9])"
      ]
     },
     "execution_count": 2,
     "metadata": {},
     "output_type": "execute_result"
    }
   ],
   "source": [
    "# 1. Create a 1D array of numbers from 0 to 9.\n",
    "oned_array=np.arange(0,10,1)\n",
    "oned_array"
   ]
  },
  {
   "cell_type": "code",
   "execution_count": 3,
   "metadata": {},
   "outputs": [
    {
     "data": {
      "text/plain": [
       "array([[ True,  True,  True],\n",
       "       [ True,  True,  True],\n",
       "       [ True,  True,  True]])"
      ]
     },
     "execution_count": 3,
     "metadata": {},
     "output_type": "execute_result"
    }
   ],
   "source": [
    "# 2) Create a 3×3 numpy array of all True’s\n",
    "np.ones((3,3),dtype=bool)"
   ]
  },
  {
   "cell_type": "code",
   "execution_count": 4,
   "metadata": {},
   "outputs": [
    {
     "name": "stdout",
     "output_type": "stream",
     "text": [
      "Array with odd numbers:  [1 3 5 7 9]\n"
     ]
    }
   ],
   "source": [
    "# 3) Given an array as input, print only odd numbers as output\n",
    "arr1=np.array([1,2,3,4,5,6,7,8,9])\n",
    "print(\"Array with odd numbers: \",arr1[arr1%2!=0])"
   ]
  },
  {
   "cell_type": "code",
   "execution_count": 5,
   "metadata": {},
   "outputs": [
    {
     "name": "stdout",
     "output_type": "stream",
     "text": [
      "original array: [1 2 3 4 5 6 7 8 9]\n",
      "replacing odd numbers in arr1 with -2:\n"
     ]
    },
    {
     "data": {
      "text/plain": [
       "array([-2,  2, -2,  4, -2,  6, -2,  8, -2])"
      ]
     },
     "execution_count": 5,
     "metadata": {},
     "output_type": "execute_result"
    }
   ],
   "source": [
    "#  4) Replace all odd numbers in above arr with -2\n",
    "arr1=np.array([1,2,3,4,5,6,7,8,9])\n",
    "print(\"original array:\",arr1)\n",
    "print(\"replacing odd numbers in arr1 with -2:\")\n",
    "arr1[arr1%2!=0]=-2\n",
    "arr1"
   ]
  },
  {
   "cell_type": "code",
   "execution_count": 6,
   "metadata": {},
   "outputs": [
    {
     "name": "stdout",
     "output_type": "stream",
     "text": [
      "[[0 1]\n",
      " [2 3]\n",
      " [5 6]] (3, 2)\n",
      "\n",
      "\n",
      " [[0 1 2]\n",
      " [3 5 6]] (2, 3)\n"
     ]
    }
   ],
   "source": [
    "# 5) How to reshape an array?\n",
    "# Answer: We can reshape an array using reshape function with new dimensions\n",
    "a=np.array([[0,1],[2,3],[5,6]])\n",
    "print(a,a.shape)\n",
    "a_=a.reshape(2,3)\n",
    "print(\"\\n\\n\",a_,a_.shape)"
   ]
  },
  {
   "cell_type": "code",
   "execution_count": 10,
   "metadata": {},
   "outputs": [
    {
     "name": "stdout",
     "output_type": "stream",
     "text": [
      "original 1D array\n"
     ]
    },
    {
     "data": {
      "text/plain": [
       "array([0, 1, 2, 3, 4, 5, 6, 7])"
      ]
     },
     "execution_count": 10,
     "metadata": {},
     "output_type": "execute_result"
    }
   ],
   "source": [
    "# 6) Convert a 1D array to a 2D array with 2 rows\n",
    "arr1=np.arange(8)\n",
    "print(\"original 1D array\")\n",
    "arr1\n"
   ]
  },
  {
   "cell_type": "code",
   "execution_count": 11,
   "metadata": {},
   "outputs": [
    {
     "name": "stdout",
     "output_type": "stream",
     "text": [
      "\n",
      " Reshaped 2D array \n"
     ]
    },
    {
     "data": {
      "text/plain": [
       "array([[0, 1, 2, 3],\n",
       "       [4, 5, 6, 7]])"
      ]
     },
     "execution_count": 11,
     "metadata": {},
     "output_type": "execute_result"
    }
   ],
   "source": [
    "print(\"\\n Reshaped 2D array \")\n",
    "arr2=arr1.reshape(2,4)\n",
    "arr2"
   ]
  },
  {
   "cell_type": "code",
   "execution_count": 12,
   "metadata": {
    "scrolled": true
   },
   "outputs": [
    {
     "name": "stdout",
     "output_type": "stream",
     "text": [
      "original array: [1 2 3 4 5 6 7 8 9]\n",
      "modified array: [1 3 4 5 7 8 9]\n"
     ]
    }
   ],
   "source": [
    "# 7) Given an array  a  = [1,2,3,4,5,6,7,8,9] , create  new array b from a such that b includes all odd numbers and 4 multiples.\n",
    "import numpy as np\n",
    "a=np.arange(1,10)\n",
    "print(\"original array:\",a)\n",
    "b=a[np.where((a%2!=0)|(a%4==0))]\n",
    "print(\"modified array:\",b)"
   ]
  },
  {
   "cell_type": "code",
   "execution_count": 18,
   "metadata": {},
   "outputs": [
    {
     "name": "stdout",
     "output_type": "stream",
     "text": [
      "[0 1 2 3 4 0 0 6 7 8 9]\n",
      "\n",
      " Test whether the array has any null values or not:\n",
      "False\n"
     ]
    }
   ],
   "source": [
    "# 8) Given array, check if there are any null values and print them out.\n",
    "a=[0,1,2,3,4,0,0,6,7,8,9]\n",
    "arr=np.array(a)\n",
    "print(arr)\n",
    "print(\"\\n Test whether the array has any null values or not:\")\n",
    "print((~arr.any(axis=0)).any())\n"
   ]
  },
  {
   "cell_type": "code",
   "execution_count": 21,
   "metadata": {},
   "outputs": [
    {
     "name": "stdout",
     "output_type": "stream",
     "text": [
      "Original Array: [[ 1.  2. nan]\n",
      " [ 4.  5.  6.]\n",
      " [nan  7. nan]]\n",
      "\n",
      " Nan values replaced by 0 in the array \n",
      "[[1. 2. 0.]\n",
      " [4. 5. 6.]\n",
      " [0. 7. 0.]]\n"
     ]
    }
   ],
   "source": [
    "# 9) How to replace all missing values with 0 in a numpy array?\n",
    "arr1=np.array([[1,2,np.nan],[4,5,6],[np.nan, 7, np.nan]])\n",
    "print(\"Original Array:\",arr1)\n",
    "print(\"\\n Nan values replaced by 0 in the array \")\n",
    "arr1[np.isnan(arr1)]=0\n",
    "print(arr1)"
   ]
  },
  {
   "cell_type": "code",
   "execution_count": 22,
   "metadata": {},
   "outputs": [
    {
     "name": "stdout",
     "output_type": "stream",
     "text": [
      "[[ 1  5]\n",
      " [ 2  3]\n",
      " [ 5  1]\n",
      " [25  1]]\n"
     ]
    }
   ],
   "source": [
    "# 10) How to find the count of each unique number in a NumPy array?\n",
    "import numpy as np\n",
    "x=np.array([1,1,1,2,2,2,5,25,1,1])\n",
    "unique, counts = np.unique(x, return_counts=True)\n",
    "print(np.array((unique, counts)).T)"
   ]
  },
  {
   "cell_type": "code",
   "execution_count": 23,
   "metadata": {},
   "outputs": [
    {
     "name": "stdout",
     "output_type": "stream",
     "text": [
      "original array:\n",
      "\n"
     ]
    },
    {
     "data": {
      "text/plain": [
       "array([ 99, 100, 101, 102, 103, 104, 105, 106, 107, 108, 109, 110, 111,\n",
       "       112, 113, 114, 115, 116, 117, 118, 119, 120, 121, 122, 123, 124,\n",
       "       125, 126, 127, 128, 129, 130, 131, 132, 133, 134, 135, 136, 137,\n",
       "       138, 139, 140, 141, 142, 143, 144, 145, 146, 147, 148, 149, 150,\n",
       "       151, 152, 153, 154, 155, 156, 157, 158, 159, 160, 161, 162, 163,\n",
       "       164, 165, 166, 167, 168, 169, 170, 171, 172, 173, 174, 175, 176,\n",
       "       177, 178, 179, 180, 181, 182, 183, 184, 185, 186, 187, 188, 189,\n",
       "       190, 191, 192, 193, 194, 195, 196, 197, 198, 199, 200, 201, 202,\n",
       "       203, 204, 205, 206, 207, 208, 209, 210, 211, 212, 213, 214, 215,\n",
       "       216, 217, 218, 219, 220, 221, 222, 223, 224, 225, 226, 227, 228,\n",
       "       229, 230, 231, 232, 233, 234, 235, 236, 237, 238, 239, 240, 241,\n",
       "       242, 243, 244, 245, 246, 247, 248, 249, 250, 251, 252, 253, 254,\n",
       "       255, 256, 257, 258, 259, 260, 261, 262, 263, 264, 265, 266, 267,\n",
       "       268, 269, 270, 271, 272, 273, 274, 275, 276, 277, 278, 279, 280,\n",
       "       281, 282, 283, 284, 285, 286, 287, 288, 289, 290, 291, 292, 293,\n",
       "       294, 295, 296, 297, 298, 299])"
      ]
     },
     "execution_count": 23,
     "metadata": {},
     "output_type": "execute_result"
    }
   ],
   "source": [
    "#11) How to convert a numeric to a categorical (text) array?\n",
    "\n",
    "# Write a program to print all numbers between 99 and 299 which are either divisible by 5 or 7. Exclude the elements which\n",
    "# are divisible by both. \n",
    "a=np.arange(99,300)\n",
    "print(\"original array:\\n\")\n",
    "a"
   ]
  },
  {
   "cell_type": "code",
   "execution_count": 24,
   "metadata": {},
   "outputs": [
    {
     "data": {
      "text/plain": [
       "array([100, 105, 110, 112, 115, 119, 120, 125, 126, 130, 133, 135, 140,\n",
       "       145, 147, 150, 154, 155, 160, 161, 165, 168, 170, 175, 180, 182,\n",
       "       185, 189, 190, 195, 196, 200, 203, 205, 210, 215, 217, 220, 224,\n",
       "       225, 230, 231, 235, 238, 240, 245, 250, 252, 255, 259, 260, 265,\n",
       "       266, 270, 273, 275, 280, 285, 287, 290, 294, 295])"
      ]
     },
     "execution_count": 24,
     "metadata": {},
     "output_type": "execute_result"
    }
   ],
   "source": [
    "m=a[(a%5==0)|(a%7==0)]  # taking out elements divisible by either 5 or 7\n",
    "m"
   ]
  },
  {
   "cell_type": "code",
   "execution_count": 25,
   "metadata": {
    "scrolled": true
   },
   "outputs": [
    {
     "name": "stdout",
     "output_type": "stream",
     "text": [
      " Final array excluding common elements:\n",
      "\n"
     ]
    },
    {
     "data": {
      "text/plain": [
       "array([100, 110, 112, 115, 119, 120, 125, 126, 130, 133, 135, 145, 147,\n",
       "       150, 154, 155, 160, 161, 165, 168, 170, 180, 182, 185, 189, 190,\n",
       "       195, 196, 200, 203, 205, 215, 217, 220, 224, 225, 230, 231, 235,\n",
       "       238, 240, 250, 252, 255, 259, 260, 265, 266, 270, 273, 275, 285,\n",
       "       287, 290, 294, 295])"
      ]
     },
     "execution_count": 25,
     "metadata": {},
     "output_type": "execute_result"
    }
   ],
   "source": [
    "q =m[np.where((m%5!=0)|(m%7!=0))]\n",
    "print(\" Final array excluding common elements:\\n\")\n",
    "q"
   ]
  },
  {
   "cell_type": "markdown",
   "metadata": {},
   "source": [
    "OR...another way to solve question 11 is as below:"
   ]
  },
  {
   "cell_type": "code",
   "execution_count": 26,
   "metadata": {},
   "outputs": [
    {
     "name": "stdout",
     "output_type": "stream",
     "text": [
      "np.where : [100 105 110 115 120 125 130 135 140 145 150 155 160 165 170 175 180 185\n",
      " 190 195 200 205 210 215 220 225 230 235 240 245 250 255 260 265 270 275\n",
      " 280 285 290 295]\n"
     ]
    }
   ],
   "source": [
    "x=np.arange(99,299)\n",
    "y = x[np.where(x%5==0) or np.where(x%7==0) ]\n",
    "print('np.where :',y)"
   ]
  },
  {
   "cell_type": "code",
   "execution_count": 29,
   "metadata": {},
   "outputs": [
    {
     "name": "stdout",
     "output_type": "stream",
     "text": [
      "Original array \n",
      "\n",
      "[0 1 2 3 4 5 6 7 8 9]\n",
      " Reversed array \n",
      "\n",
      "[9 8 7 6 5 4 3 2 1 0]\n"
     ]
    }
   ],
   "source": [
    "# Write a program to reverse an array and print (Don’t use inbuilt reverse functions)\n",
    "arr=np.arange(10)\n",
    "print(\"Original array \\n\")\n",
    "print(arr)\n",
    "rev_arr=arr[::-1]\n",
    "print(\" Reversed array \\n\")\n",
    "print(rev_arr)"
   ]
  },
  {
   "cell_type": "code",
   "execution_count": null,
   "metadata": {},
   "outputs": [],
   "source": []
  }
 ],
 "metadata": {
  "kernelspec": {
   "display_name": "Python 3",
   "language": "python",
   "name": "python3"
  },
  "language_info": {
   "codemirror_mode": {
    "name": "ipython",
    "version": 3
   },
   "file_extension": ".py",
   "mimetype": "text/x-python",
   "name": "python",
   "nbconvert_exporter": "python",
   "pygments_lexer": "ipython3",
   "version": "3.7.4"
  }
 },
 "nbformat": 4,
 "nbformat_minor": 2
}
